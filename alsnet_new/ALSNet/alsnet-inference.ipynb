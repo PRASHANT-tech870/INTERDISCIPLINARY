{
 "cells": [
  {
   "cell_type": "code",
   "execution_count": 1,
   "metadata": {
    "_cell_guid": "b1076dfc-b9ad-4769-8c92-a6c4dae69d19",
    "_uuid": "8f2839f25d086af736a60e9eeb907d3b93b6e0e5",
    "execution": {
     "iopub.execute_input": "2022-01-09T11:39:39.448909Z",
     "iopub.status.busy": "2022-01-09T11:39:39.448250Z",
     "iopub.status.idle": "2022-01-09T11:39:43.211095Z",
     "shell.execute_reply": "2022-01-09T11:39:43.210441Z",
     "shell.execute_reply.started": "2022-01-09T11:25:45.196918Z"
    },
    "papermill": {
     "duration": 3.778558,
     "end_time": "2022-01-09T11:39:43.211223",
     "exception": false,
     "start_time": "2022-01-09T11:39:39.432665",
     "status": "completed"
    },
    "tags": []
   },
   "outputs": [],
   "source": [
    "import pandas as pd\n",
    "import scipy.io\n",
    "import numpy as np\n",
    "import h5py\n",
    "import pickle\n",
    "from sklearn.model_selection import train_test_split\n",
    "\n",
    "X_test = pd.read_pickle('/Users/prashantronad/Documents/College/6thsem/IDP/Alsnet/X_test.pkl')\n",
    "y_test = pd.read_pickle('/Users/prashantronad/Documents/College/6thsem/IDP/Alsnet/y_test.pkl')\n",
    "\n",
    "X_test= np.array(X_test)\n",
    "X_test= X_test.reshape(X_test.shape[0],X_test.shape[1],1)"
   ]
  },
  {
   "cell_type": "code",
   "execution_count": 2,
   "metadata": {
    "_cell_guid": "79c7e3d0-c299-4dcb-8224-4455121ee9b0",
    "_uuid": "d629ff2d2480ee46fbb7e2d37f6b5fab8052498a",
    "execution": {
     "iopub.execute_input": "2022-01-09T11:39:43.230010Z",
     "iopub.status.busy": "2022-01-09T11:39:43.229263Z",
     "iopub.status.idle": "2022-01-09T11:40:32.556549Z",
     "shell.execute_reply": "2022-01-09T11:40:32.557263Z",
     "shell.execute_reply.started": "2022-01-09T11:25:51.134064Z"
    },
    "papermill": {
     "duration": 49.338572,
     "end_time": "2022-01-09T11:40:32.557469",
     "exception": false,
     "start_time": "2022-01-09T11:39:43.218897",
     "status": "completed"
    },
    "tags": []
   },
   "outputs": [
    {
     "name": "stderr",
     "output_type": "stream",
     "text": [
      "/Users/prashantronad/Library/Python/3.9/lib/python/site-packages/urllib3/__init__.py:35: NotOpenSSLWarning: urllib3 v2 only supports OpenSSL 1.1.1+, currently the 'ssl' module is compiled with 'LibreSSL 2.8.3'. See: https://github.com/urllib3/urllib3/issues/3020\n",
      "  warnings.warn(\n",
      "/Users/prashantronad/Library/Python/3.9/lib/python/site-packages/keras/src/optimizers/base_optimizer.py:86: UserWarning: Argument `decay` is no longer supported and will be ignored.\n",
      "  warnings.warn(\n",
      "WARNING:absl:Compiled the loaded model, but the compiled metrics have yet to be built. `model.compile_metrics` will be empty until you train or evaluate the model.\n",
      "WARNING:absl:Error in loading the saved optimizer state. As a result, your model is starting with a freshly initialized optimizer.\n"
     ]
    },
    {
     "name": "stdout",
     "output_type": "stream",
     "text": [
      "\u001b[1m21/21\u001b[0m \u001b[32m━━━━━━━━━━━━━━━━━━━━\u001b[0m\u001b[37m\u001b[0m \u001b[1m11s\u001b[0m 535ms/step\n",
      "Accuracy=0.977444, Sensitivity=0.967742, Specificity=0.985915\n",
      "Confusion matrix : \n",
      " [[350   5]\n",
      " [ 10 300]]\n"
     ]
    }
   ],
   "source": [
    "import matplotlib.pyplot as plt\n",
    "from keras import Sequential\n",
    "from keras.layers import Conv1D, MaxPooling1D, Flatten, Dropout, Dense, BatchNormalization, Input, Lambda, Activation, Conv2D, MaxPooling2D, Reshape, Bidirectional, TimeDistributed, GRU, GlobalMaxPooling1D\n",
    "from keras.layers import concatenate\n",
    "from keras.models import Model\n",
    "from keras.utils import plot_model\n",
    "from keras.callbacks import ReduceLROnPlateau, ModelCheckpoint, CSVLogger, EarlyStopping\n",
    "from keras.optimizers import Adam\n",
    "from tensorflow.keras.models import load_model\n",
    "from sklearn.metrics import confusion_matrix\n",
    "from sklearn.metrics import classification_report\n",
    "from sklearn.metrics import roc_curve\n",
    "from sklearn.metrics import precision_recall_curve\n",
    "from matplotlib import pyplot\n",
    "\n",
    "\n",
    "# load model\n",
    "\n",
    "model= load_model('/Users/prashantronad/Documents/College/6thsem/IDP/Alsnet/ALSNet3.hdf5')\n",
    "\n",
    "# predict probabilities for test set\n",
    "yhat_probs = model.predict(X_test, verbose=1)\n",
    "#yhat_probs= 1-yhat_probs\n",
    "\n",
    "# measure best fscore\n",
    "#y_test=1-y_test\n",
    "precision, recall, thresholds = precision_recall_curve(y_test, yhat_probs)\n",
    "fscore = (2 * precision * recall) / (precision + recall)\n",
    "# locate the index of the largest f score\n",
    "ix = np.argmax(fscore)\n",
    "#print('Best Threshold=%f, F-Score=%.3f, Precision=%.3f, Recall=%.3f' % (thresholds[ix], fscore[ix], precision[ix], recall[ix]))\n",
    "\n",
    "\n",
    "# predict classes for threshold\n",
    "yhat_classes = yhat_probs >= 0.5\n",
    "cm = confusion_matrix(y_test,yhat_classes)\n",
    "tn, fp, fn, tp = cm.ravel()\n",
    "\n",
    "model_precision= tp/(tp+fp)\n",
    "model_recall= tp/(tp+fn)\n",
    "model_f= 2*model_precision*model_recall/(model_precision+model_recall)\n",
    "model_accuracy= (tp+tn)/(tp+fp+tn+fn)\n",
    "model_sensitivity= model_recall\n",
    "model_specificity= tn/(tn+fp)\n",
    "\n",
    "# print('Threshold=%f, F-Score=%.3f, Precision=%.3f, Recall=%.3f' % (0.5, model_f, model_precision, model_recall))\n",
    "print('Accuracy=%f, Sensitivity=%f, Specificity=%f' % (model_accuracy, model_sensitivity, model_specificity))\n",
    "print('Confusion matrix : \\n',cm)"
   ]
  },
  {
   "cell_type": "code",
   "execution_count": 5,
   "metadata": {
    "execution": {
     "iopub.execute_input": "2022-01-09T11:40:33.035043Z",
     "iopub.status.busy": "2022-01-09T11:40:33.034387Z",
     "iopub.status.idle": "2022-01-09T11:40:33.041858Z",
     "shell.execute_reply": "2022-01-09T11:40:33.042320Z"
    },
    "papermill": {
     "duration": 0.028036,
     "end_time": "2022-01-09T11:40:33.042476",
     "exception": false,
     "start_time": "2022-01-09T11:40:33.014440",
     "status": "completed"
    },
    "tags": []
   },
   "outputs": [],
   "source": [
    "import scipy.io as sio\n",
    "# Create a dictionary\n",
    "adict = {}\n",
    "adict['precision'] = precision\n",
    "sio.savemat('./precision.mat', adict)\n",
    "\n",
    "# Create a dictionary\n",
    "adict = {}\n",
    "adict['recall'] = recall\n",
    "sio.savemat('./recall.mat', adict)\n",
    "\n",
    "# Create a dictionary\n",
    "adict = {}\n",
    "adict['thresholds'] = precision\n",
    "sio.savemat('./thresholds.mat', adict)"
   ]
  },
  {
   "cell_type": "code",
   "execution_count": 6,
   "metadata": {
    "execution": {
     "iopub.execute_input": "2022-01-09T11:40:33.079743Z",
     "iopub.status.busy": "2022-01-09T11:40:33.079084Z",
     "iopub.status.idle": "2022-01-09T11:40:33.094180Z",
     "shell.execute_reply": "2022-01-09T11:40:33.094776Z",
     "shell.execute_reply.started": "2022-01-03T15:33:39.862131Z"
    },
    "papermill": {
     "duration": 0.035509,
     "end_time": "2022-01-09T11:40:33.094915",
     "exception": false,
     "start_time": "2022-01-09T11:40:33.059406",
     "status": "completed"
    },
    "tags": []
   },
   "outputs": [
    {
     "name": "stdout",
     "output_type": "stream",
     "text": [
      "350 5 10 300\n",
      "0\n",
      "0    355\n",
      "1    310\n",
      "Name: count, dtype: int64\n"
     ]
    }
   ],
   "source": [
    "print(tn, fp, fn, tp)\n",
    "print((y_test).value_counts())"
   ]
  },
  {
   "cell_type": "code",
   "execution_count": 7,
   "metadata": {
    "execution": {
     "iopub.execute_input": "2022-01-09T11:40:33.133044Z",
     "iopub.status.busy": "2022-01-09T11:40:33.132349Z",
     "iopub.status.idle": "2022-01-09T11:40:33.302597Z",
     "shell.execute_reply": "2022-01-09T11:40:33.303070Z"
    },
    "papermill": {
     "duration": 0.190967,
     "end_time": "2022-01-09T11:40:33.303218",
     "exception": false,
     "start_time": "2022-01-09T11:40:33.112251",
     "status": "completed"
    },
    "tags": []
   },
   "outputs": [
    {
     "data": {
      "text/plain": [
       "Text(0.5, 0, 'test set samples')"
      ]
     },
     "execution_count": 7,
     "metadata": {},
     "output_type": "execute_result"
    },
    {
     "data": {
      "image/png": "[encoded data removed]",
      "text/plain": [
       "<Figure size 640x480 with 1 Axes>"
      ]
     },
     "metadata": {},
     "output_type": "display_data"
    }
   ],
   "source": [
    "samples= np.arange(1,666,1)\n",
    "plt.scatter(samples,yhat_probs)\n",
    "plt.title('model output')\n",
    "plt.ylabel('probability')\n",
    "plt.xlabel('test set samples')"
   ]
  },
  {
   "cell_type": "code",
   "execution_count": 8,
   "metadata": {
    "execution": {
     "iopub.execute_input": "2022-01-09T11:40:33.343994Z",
     "iopub.status.busy": "2022-01-09T11:40:33.343332Z",
     "iopub.status.idle": "2022-01-09T11:40:33.349460Z",
     "shell.execute_reply": "2022-01-09T11:40:33.349987Z"
    },
    "papermill": {
     "duration": 0.028299,
     "end_time": "2022-01-09T11:40:33.350128",
     "exception": false,
     "start_time": "2022-01-09T11:40:33.321829",
     "status": "completed"
    },
    "tags": []
   },
   "outputs": [],
   "source": [
    "import scipy.io as sio\n",
    "# Create a dictionary\n",
    "adict = {}\n",
    "adict['yhat_probs'] = yhat_probs\n",
    "sio.savemat('./yhat_probs.mat', adict)\n",
    "\n",
    "# Create a dictionary\n",
    "y_test= np.array(y_test)\n",
    "adict = {}\n",
    "adict['y_test'] = y_test\n",
    "sio.savemat('./y_test.mat', adict)"
   ]
  },
  {
   "cell_type": "code",
   "execution_count": null,
   "metadata": {},
   "outputs": [],
   "source": []
  },
  {
   "cell_type": "code",
   "execution_count": 1,
   "metadata": {},
   "outputs": [
    {
     "ename": "NameError",
     "evalue": "name 'y_test' is not defined",
     "output_type": "error",
     "traceback": [
      "\u001b[0;31m---------------------------------------------------------------------------\u001b[0m",
      "\u001b[0;31mNameError\u001b[0m                                 Traceback (most recent call last)",
      "Cell \u001b[0;32mIn[1], line 10\u001b[0m\n\u001b[1;32m      8\u001b[0m \u001b[38;5;66;03m# 1. ROC Curve\u001b[39;00m\n\u001b[1;32m      9\u001b[0m plt\u001b[38;5;241m.\u001b[39msubplot(\u001b[38;5;241m2\u001b[39m, \u001b[38;5;241m2\u001b[39m, \u001b[38;5;241m1\u001b[39m)\n\u001b[0;32m---> 10\u001b[0m fpr, tpr, _ \u001b[38;5;241m=\u001b[39m roc_curve(\u001b[43my_test\u001b[49m, yhat_probs)\n\u001b[1;32m     11\u001b[0m roc_auc \u001b[38;5;241m=\u001b[39m auc(fpr, tpr)\n\u001b[1;32m     12\u001b[0m plt\u001b[38;5;241m.\u001b[39mplot(fpr, tpr, color\u001b[38;5;241m=\u001b[39m\u001b[38;5;124m'\u001b[39m\u001b[38;5;124mdarkorange\u001b[39m\u001b[38;5;124m'\u001b[39m, lw\u001b[38;5;241m=\u001b[39m\u001b[38;5;241m2\u001b[39m, label\u001b[38;5;241m=\u001b[39m\u001b[38;5;124mf\u001b[39m\u001b[38;5;124m'\u001b[39m\u001b[38;5;124mROC curve (AUC = \u001b[39m\u001b[38;5;132;01m{\u001b[39;00mroc_auc\u001b[38;5;132;01m:\u001b[39;00m\u001b[38;5;124m.2f\u001b[39m\u001b[38;5;132;01m}\u001b[39;00m\u001b[38;5;124m)\u001b[39m\u001b[38;5;124m'\u001b[39m)\n",
      "\u001b[0;31mNameError\u001b[0m: name 'y_test' is not defined"
     ]
    },
    {
     "data": {
      "image/png": "[encoded data removed]",
      "text/plain": [
       "<Figure size 2000x1600 with 1 Axes>"
      ]
     },
     "metadata": {},
     "output_type": "display_data"
    }
   ],
   "source": [
    "import seaborn as sns\n",
    "from sklearn.metrics import roc_curve, auc\n",
    "import matplotlib.pyplot as plt\n",
    "\n",
    "# Create a figure with 2x2 subplots\n",
    "plt.figure(figsize=(20, 16))\n",
    "\n",
    "# 1. ROC Curve\n",
    "plt.subplot(2, 2, 1)\n",
    "fpr, tpr, _ = roc_curve(y_test, yhat_probs)\n",
    "roc_auc = auc(fpr, tpr)\n",
    "plt.plot(fpr, tpr, color='darkorange', lw=2, label=f'ROC curve (AUC = {roc_auc:.2f})')\n",
    "plt.plot([0, 1], [0, 1], color='navy', lw=2, linestyle='--')\n",
    "plt.xlim([0.0, 1.0])\n",
    "plt.ylim([0.0, 1.05])\n",
    "plt.xlabel('False Positive Rate')\n",
    "plt.ylabel('True Positive Rate')\n",
    "plt.title('Receiver Operating Characteristic (ROC) Curve')\n",
    "plt.legend(loc=\"lower right\")\n",
    "\n",
    "# 2. Precision-Recall Curve\n",
    "plt.subplot(2, 2, 2)\n",
    "plt.plot(recall, precision, color='blue', lw=2, label=f'F1-Score = {model_f:.2f}')\n",
    "plt.xlabel('Recall')\n",
    "plt.ylabel('Precision')\n",
    "plt.title('Precision-Recall Curve')\n",
    "plt.legend(loc='lower left')\n",
    "plt.grid(True)\n",
    "\n",
    "# 3. Confusion Matrix Heatmap\n",
    "plt.subplot(2, 2, 3)\n",
    "cm_normalized = cm.astype('float') / cm.sum(axis=1)[:, np.newaxis]\n",
    "sns.heatmap(cm_normalized, annot=cm, fmt='d', cmap='Blues',\n",
    "            xticklabels=['Negative', 'Positive'],\n",
    "            yticklabels=['Negative', 'Positive'])\n",
    "plt.title('Confusion Matrix\\nwith Normalized Colors')\n",
    "plt.ylabel('True Label')\n",
    "plt.xlabel('Predicted Label')\n",
    "\n",
    "# 4. Distribution of Prediction Probabilities\n",
    "plt.subplot(2, 2, 4)\n",
    "plt.hist(yhat_probs[y_test == 0], bins=30, alpha=0.5, label='Actual Negative', color='red')\n",
    "plt.hist(yhat_probs[y_test == 1], bins=30, alpha=0.5, label='Actual Positive', color='green')\n",
    "plt.xlabel('Prediction Probability')\n",
    "plt.ylabel('Count')\n",
    "plt.title('Distribution of Prediction Probabilities by Class')\n",
    "plt.legend()\n",
    "\n",
    "plt.tight_layout()\n",
    "plt.show()\n"
   ]
  },
  {
   "cell_type": "code",
   "execution_count": null,
   "metadata": {},
   "outputs": [],
   "source": []
  }
 ],
 "metadata": {
  "kernelspec": {
   "display_name": "Python 3",
   "language": "python",
   "name": "python3"
  },
  "language_info": {
   "codemirror_mode": {
    "name": "ipython",
    "version": 3
   },
   "file_extension": ".py",
   "mimetype": "text/x-python",
   "name": "python",
   "nbconvert_exporter": "python",
   "pygments_lexer": "ipython3",
   "version": "3.9.6"
  },
  "papermill": {
   "duration": 58.416345,
   "end_time": "2022-01-09T11:40:33.475904",
   "environment_variables": {},
   "exception": null,
   "input_path": "__notebook__.ipynb",
   "output_path": "__notebook__.ipynb",
   "parameters": {},
   "start_time": "2022-01-09T11:39:35.059559",
   "version": "2.1.0"
  }
 },
 "nbformat": 4,
 "nbformat_minor": 4
}
